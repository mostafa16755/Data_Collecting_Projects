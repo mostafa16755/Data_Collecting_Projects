{
 "cells": [
  {
   "cell_type": "code",
   "execution_count": 16,
   "id": "24b5d8e8",
   "metadata": {},
   "outputs": [],
   "source": [
    "import requests\n",
    "from bs4 import BeautifulSoup\n",
    "import csv\n",
    "from itertools import zip_longest\n",
    "from time import sleep"
   ]
  },
  {
   "cell_type": "code",
   "execution_count": 17,
   "id": "173b30e6",
   "metadata": {},
   "outputs": [],
   "source": [
    "result = requests.get(\"https://wuzzuf.net/search/jobs/?q=python+developer&a=hpb\")"
   ]
  },
  {
   "cell_type": "code",
   "execution_count": 18,
   "id": "c611be5a",
   "metadata": {},
   "outputs": [],
   "source": [
    "src = result.content"
   ]
  },
  {
   "cell_type": "code",
   "execution_count": 19,
   "id": "03377437",
   "metadata": {},
   "outputs": [],
   "source": [
    "soup = BeautifulSoup(src, \"lxml\")"
   ]
  },
  {
   "cell_type": "code",
   "execution_count": 20,
   "id": "0b9f6956",
   "metadata": {},
   "outputs": [],
   "source": [
    "job_titles = soup.find_all(\"h2\",{\"class\":\"css-m604qf\"})\n",
    "company_names = soup.find_all(\"a\", {\"class\":\"css-17s97q8\"})\n",
    "job_skills = soup.find_all(\"div\", {\"class\":\"css-y4udm8\"})\n",
    "location_names = soup.find_all(\"span\",{\"class\":\"css-5wys0k\"})"
   ]
  },
  {
   "cell_type": "code",
   "execution_count": 21,
   "id": "b5279dd8",
   "metadata": {},
   "outputs": [],
   "source": [
    "job_title = []\n",
    "company_name = []\n",
    "location = []\n",
    "skills = []\n",
    "links = []\n",
    "salary = []"
   ]
  },
  {
   "cell_type": "code",
   "execution_count": 22,
   "id": "d5ef2c18",
   "metadata": {
    "scrolled": true
   },
   "outputs": [],
   "source": [
    "for i in range(len(job_titles)):\n",
    "    job_title.append(job_titles[i].text)\n",
    "    company_name.append(company_names[i].text)\n",
    "    location.append(location_names[i].text)\n",
    "    skills.append(job_skills[i].text)\n",
    "    links.append(job_titles[i].find(\"a\").get(\"href\"))\n",
    "\n"
   ]
  },
  {
   "cell_type": "code",
   "execution_count": 23,
   "id": "2935feeb",
   "metadata": {},
   "outputs": [],
   "source": [
    "lnk = 'https://wuzzuf.net'"
   ]
  },
  {
   "cell_type": "code",
   "execution_count": 24,
   "id": "3a04534d",
   "metadata": {},
   "outputs": [
    {
     "data": {
      "text/plain": [
       "'/jobs/p/moCbxG5Uelj3-Senior-Python-Developer-Trufla-Cairo-Egypt?o=1&l=sp&t=sj&a=python developer|search-v3|hpb'"
      ]
     },
     "execution_count": 24,
     "metadata": {},
     "output_type": "execute_result"
    }
   ],
   "source": [
    "links[0]"
   ]
  },
  {
   "cell_type": "code",
   "execution_count": 25,
   "id": "287d7043",
   "metadata": {
    "scrolled": true
   },
   "outputs": [
    {
     "name": "stdout",
     "output_type": "stream",
     "text": [
      "https://wuzzuf.net/jobs/p/moCbxG5Uelj3-Senior-Python-Developer-Trufla-Cairo-Egypt?o=1&l=sp&t=sj&a=python developer|search-v3|hpb\n"
     ]
    }
   ],
   "source": [
    "print(lnk+links[0])"
   ]
  },
  {
   "cell_type": "code",
   "execution_count": 26,
   "id": "8e3c7b16",
   "metadata": {},
   "outputs": [],
   "source": [
    "links = [lnk+i for i in links]"
   ]
  },
  {
   "cell_type": "code",
   "execution_count": 27,
   "id": "8234a4f9",
   "metadata": {
    "scrolled": true
   },
   "outputs": [
    {
     "name": "stdout",
     "output_type": "stream",
     "text": [
      "None\n",
      "None\n",
      "None\n",
      "None\n",
      "None\n",
      "None\n",
      "None\n",
      "None\n",
      "None\n",
      "None\n",
      "None\n",
      "None\n",
      "None\n",
      "None\n",
      "None\n"
     ]
    }
   ],
   "source": [
    "for link in links:\n",
    "    #print(link)\n",
    "    result = requests.get(link)\n",
    "    src = result.content\n",
    "    soup = BeautifulSoup(src, \"lxml\")\n",
    "    salaries = soup.find(\"div\", {\"class\" : \"css-4xky9y\"})\n",
    "    print(salaries)\n",
    "    salary.append(salaries)"
   ]
  },
  {
   "cell_type": "code",
   "execution_count": 14,
   "id": "01a814f3",
   "metadata": {},
   "outputs": [
    {
     "data": {
      "text/plain": [
       "[None,\n",
       " None,\n",
       " None,\n",
       " None,\n",
       " None,\n",
       " None,\n",
       " None,\n",
       " None,\n",
       " None,\n",
       " None,\n",
       " None,\n",
       " None,\n",
       " None,\n",
       " None,\n",
       " None]"
      ]
     },
     "execution_count": 14,
     "metadata": {},
     "output_type": "execute_result"
    }
   ],
   "source": [
    "salary"
   ]
  },
  {
   "cell_type": "code",
   "execution_count": 16,
   "id": "848419e5",
   "metadata": {},
   "outputs": [
    {
     "data": {
      "text/plain": [
       "'file_list = [job_title, company_name, location, skills, links, salary]\\n\\nexported = zip_longest(*file_list)\\n\\nwith open(\"C:/Users/Mostafa/jobs.csv\", \"w\")as myFile:\\n    wr = csv.writer(myFile)\\n    wr.writerow([\"job title\", \"company name\", \"location\", \"skills\", \"links\", \"salary\"])\\n    wr.writerows(exported)'"
      ]
     },
     "execution_count": 16,
     "metadata": {},
     "output_type": "execute_result"
    }
   ],
   "source": [
    "file_list = [job_title, company_name, location, skills, links, salary]\n",
    "\n",
    "exported = zip_longest(*file_list)\n",
    "\n",
    "with open(\"C:/Users/Mostafa/jobs.csv\", \"w\")as myFile:\n",
    "    wr = csv.writer(myFile)\n",
    "    wr.writerow([\"job title\", \"company name\", \"location\", \"skills\", \"links\", \"salary\"])\n",
    "    wr.writerows(exported)'''"
   ]
  },
  {
   "cell_type": "code",
   "execution_count": null,
   "id": "1c03ea3c",
   "metadata": {},
   "outputs": [],
   "source": []
  },
  {
   "cell_type": "code",
   "execution_count": null,
   "id": "cb96a46b",
   "metadata": {},
   "outputs": [],
   "source": []
  }
 ],
 "metadata": {
  "kernelspec": {
   "display_name": "Python 3 (ipykernel)",
   "language": "python",
   "name": "python3"
  },
  "language_info": {
   "codemirror_mode": {
    "name": "ipython",
    "version": 3
   },
   "file_extension": ".py",
   "mimetype": "text/x-python",
   "name": "python",
   "nbconvert_exporter": "python",
   "pygments_lexer": "ipython3",
   "version": "3.9.12"
  }
 },
 "nbformat": 4,
 "nbformat_minor": 5
}
