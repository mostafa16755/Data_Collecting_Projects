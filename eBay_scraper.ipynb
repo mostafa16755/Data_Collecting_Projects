{
 "cells": [
  {
   "cell_type": "markdown",
   "id": "4f8e143b",
   "metadata": {},
   "source": [
    "### This code scrapes product data from eBay and saves it to a CSV file."
   ]
  },
  {
   "cell_type": "code",
   "execution_count": 1,
   "id": "52a8d04a",
   "metadata": {},
   "outputs": [],
   "source": [
    "# Import necessary modules and packages\n",
    "from selenium import webdriver\n",
    "from selenium.webdriver.common.by import By\n",
    "from selenium.webdriver.common.keys import Keys\n",
    "from selenium.webdriver.support.ui import Select\n",
    "import pandas as pd\n",
    "import requests\n",
    "from bs4 import BeautifulSoup"
   ]
  },
  {
   "cell_type": "code",
   "execution_count": 2,
   "id": "e43d2528",
   "metadata": {},
   "outputs": [],
   "source": [
    "# Create a new Chrome browser instance\n",
    "driver = webdriver.Chrome()\n",
    "\n",
    "# Navigate to the eBay website\n",
    "driver.get('https://www.ebay.com/')\n",
    "\n",
    "# Create an empty list to store product links\n",
    "links = []"
   ]
  },
  {
   "cell_type": "code",
   "execution_count": 3,
   "id": "004aa285",
   "metadata": {},
   "outputs": [],
   "source": [
    "# Select the 'Computers/Tablets & Networking' category from the dropdown menu\n",
    "dropdown = Select(driver.find_element(By.ID, 'gh-cat'))\n",
    "dropdown.select_by_visible_text('Computers/Tablets & Networking')"
   ]
  },
  {
   "cell_type": "code",
   "execution_count": 4,
   "id": "6de17268",
   "metadata": {},
   "outputs": [],
   "source": [
    "# Search for 'lenovo small screen' in the search box\n",
    "search_box = driver.find_element(By.XPATH, '//*[@id=\"gh-ac\"]')\n",
    "search_box.send_keys('lenovo small screen')\n",
    "search_box.send_keys(Keys.RETURN)"
   ]
  },
  {
   "cell_type": "code",
   "execution_count": 5,
   "id": "e462d0d3",
   "metadata": {},
   "outputs": [
    {
     "name": "stdout",
     "output_type": "stream",
     "text": [
      "Number of Products: 159\n",
      "Number of Pages: 2\n"
     ]
    }
   ],
   "source": [
    "# Calculate the number of products and pages\n",
    "num_of_products = driver.find_element(By.XPATH, '//*[@id=\"mainContent\"]/div[1]/div/div[2]/div[1]/div[1]/h1/span[1]').text\n",
    "num_of_products = num_of_products.replace(',', '')  # remove comma\n",
    "num_of_pages = int(int(num_of_products) / 60)\n",
    "print('Number of Products:',num_of_products)\n",
    "print('Number of Pages:',num_of_pages)"
   ]
  },
  {
   "cell_type": "code",
   "execution_count": 6,
   "id": "84d8de5e",
   "metadata": {},
   "outputs": [],
   "source": [
    "for x in range(1, num_of_pages +1):\n",
    "    # Find all the <a> tags that contain product links\n",
    "    product_links = driver.find_elements(By.XPATH, '//a[@class=\"s-item__link\"]')\n",
    "\n",
    "    # Loop through the <a> tags and extract the product links\n",
    "    for link in product_links:\n",
    "        # Extract the product link\n",
    "        href = link.get_attribute('href')\n",
    "        links.append(href)"
   ]
  },
  {
   "cell_type": "code",
   "execution_count": 7,
   "id": "92c25730",
   "metadata": {},
   "outputs": [],
   "source": [
    "# Close the browser instance\n",
    "driver.quit()"
   ]
  },
  {
   "cell_type": "code",
   "execution_count": 8,
   "id": "1e5e35d9",
   "metadata": {},
   "outputs": [],
   "source": [
    "# Create empty lists to store product data\n",
    "titles = []\n",
    "prices = []\n",
    "conditions = []\n",
    "quantities = []\n",
    "shippings = []\n",
    "import_charges = []\n",
    "deliveries = []\n",
    "return_policies = []"
   ]
  },
  {
   "cell_type": "code",
   "execution_count": 9,
   "id": "02754ffc",
   "metadata": {},
   "outputs": [],
   "source": [
    "# Loop through the links and scrape data from each page\n",
    "for link in links:\n",
    "    # Send a GET request to the URL\n",
    "    response = requests.get(link)\n",
    "\n",
    "    # Parse the HTML content using BeautifulSoup\n",
    "    soup = BeautifulSoup(response.content, 'html.parser')\n",
    "\n",
    "    # Extract the data you need from the page\n",
    "    product_title = soup.find('h1', class_='x-item-title__mainTitle')\n",
    "    if product_title:\n",
    "        product_title_text = product_title.text.strip()\n",
    "    else:\n",
    "        product_title_text = 'N/A'\n",
    "\n",
    "    product_price = soup.find('span', itemprop='price')\n",
    "    if product_price:\n",
    "        price_text = product_price.text.strip()\n",
    "    else:\n",
    "        price_text = 'N/A'\n",
    "        \n",
    "    condition_span = soup.find('div', class_='x-item-condition-value')\n",
    "    if condition_span:\n",
    "        condition_text = condition_span.text.strip()\n",
    "    else:\n",
    "        condition_text = 'N/A'\n",
    "        \n",
    "    product_qty = soup.find('div', class_='d-quantity__availability')\n",
    "    if product_qty:\n",
    "        qty_text = product_qty.text.strip()\n",
    "    else:\n",
    "        qty_text = 'N/A'\n",
    "        \n",
    "    info = soup.find_all('div', class_='ux-labels-values__values-content')\n",
    "    if len(info) > 1:\n",
    "        shipping_text = info[0].text.strip()\n",
    "        import_charges_text = info[1].text.strip()\n",
    "        delivery_text = info[2].text.strip()\n",
    "        return_policy_text = info[3].text.strip()\n",
    "    else:\n",
    "        shipping_text = 'N/A'\n",
    "        import_charges_text = 'N/A'\n",
    "        delivery_text = 'N/A'\n",
    "        return_policy_text = 'N/A'\n",
    "        \n",
    "        \n",
    "    # Save extracted data in lists\n",
    "    titles.append(product_title_text)\n",
    "    prices.append(price_text)\n",
    "    conditions.append(condition_text)\n",
    "    quantities.append(qty_text)\n",
    "    shippings.append(shipping_text)\n",
    "    import_charges.append(import_charges_text)\n",
    "    deliveries.append(delivery_text)\n",
    "    return_policies.append(return_policy_text)"
   ]
  },
  {
   "cell_type": "code",
   "execution_count": 10,
   "id": "1b16a35f",
   "metadata": {},
   "outputs": [
    {
     "data": {
      "text/html": [
       "<div>\n",
       "<style scoped>\n",
       "    .dataframe tbody tr th:only-of-type {\n",
       "        vertical-align: middle;\n",
       "    }\n",
       "\n",
       "    .dataframe tbody tr th {\n",
       "        vertical-align: top;\n",
       "    }\n",
       "\n",
       "    .dataframe thead th {\n",
       "        text-align: right;\n",
       "    }\n",
       "</style>\n",
       "<table border=\"1\" class=\"dataframe\">\n",
       "  <thead>\n",
       "    <tr style=\"text-align: right;\">\n",
       "      <th></th>\n",
       "      <th>Product Title</th>\n",
       "      <th>Price</th>\n",
       "      <th>Product Condition</th>\n",
       "      <th>Quantity</th>\n",
       "      <th>Shipping Info</th>\n",
       "      <th>Import Charges</th>\n",
       "      <th>Delivery Info</th>\n",
       "      <th>Returns Info</th>\n",
       "    </tr>\n",
       "  </thead>\n",
       "  <tbody>\n",
       "    <tr>\n",
       "      <th>0</th>\n",
       "      <td>N/A</td>\n",
       "      <td>N/A</td>\n",
       "      <td>N/A</td>\n",
       "      <td>N/A</td>\n",
       "      <td>N/A</td>\n",
       "      <td>N/A</td>\n",
       "      <td>N/A</td>\n",
       "      <td>N/A</td>\n",
       "    </tr>\n",
       "    <tr>\n",
       "      <th>1</th>\n",
       "      <td>5D10K37833 Lenovo Miix 700-12ISK Assembly 80QL...</td>\n",
       "      <td>EUR 149.99</td>\n",
       "      <td>Open boxOpen box“A-Grade - Vom NEUEN originale...</td>\n",
       "      <td>6 available / 9 sold</td>\n",
       "      <td>EUR 25.00 (approx US $27.27) Economy Shipping....</td>\n",
       "      <td>International shipment of items may be subject...</td>\n",
       "      <td>Estimated between Fri, Jul 14 and Fri, Jul 28 ...</td>\n",
       "      <td>30 days returns. Buyer pays for return shippin...</td>\n",
       "    </tr>\n",
       "    <tr>\n",
       "      <th>2</th>\n",
       "      <td>Used - Lenovo ThinkCentre M83 - Intel Core i3 ...</td>\n",
       "      <td>US $35.00</td>\n",
       "      <td>UsedUsed“Pulled as a working system that was u...</td>\n",
       "      <td>5 available / 9 sold</td>\n",
       "      <td>US $169.47 eBay International Shipping. See de...</td>\n",
       "      <td>This item may be subject to import charges and...</td>\n",
       "      <td>Estimated between Tue, Aug 15 and Tue, Sep 5 t...</td>\n",
       "      <td>30 days returns. Buyer pays for return shippin...</td>\n",
       "    </tr>\n",
       "    <tr>\n",
       "      <th>3</th>\n",
       "      <td>Lenovo IdeaCentre 3 07IAB7 Small Desktop PC i5...</td>\n",
       "      <td>GBP 445.99</td>\n",
       "      <td>NewNew</td>\n",
       "      <td>N/A</td>\n",
       "      <td>GBP 117.87 (approx US $149.57) Expedited Shipp...</td>\n",
       "      <td>Est. £89.23 Amount confirmed at checkoutThis a...</td>\n",
       "      <td>Estimated between Fri, Jul 14 and Tue, Jul 18 ...</td>\n",
       "      <td>30 days returns. Buyer pays for return shippin...</td>\n",
       "    </tr>\n",
       "    <tr>\n",
       "      <th>4</th>\n",
       "      <td>New/Orig Lenovo ThinkPad X13 Yoga Gen 1 13.3\" ...</td>\n",
       "      <td>US $179.99</td>\n",
       "      <td>NewNew</td>\n",
       "      <td>Last One / 2 sold</td>\n",
       "      <td>US $30.00 Expedited International Shipping. Se...</td>\n",
       "      <td>International shipment of items may be subject...</td>\n",
       "      <td>Estimated between Thu, Jul 13 and Fri, Jul 21 ...</td>\n",
       "      <td>30 days returns. Buyer pays for return shippin...</td>\n",
       "    </tr>\n",
       "  </tbody>\n",
       "</table>\n",
       "</div>"
      ],
      "text/plain": [
       "                                       Product Title       Price  \\\n",
       "0                                                N/A         N/A   \n",
       "1  5D10K37833 Lenovo Miix 700-12ISK Assembly 80QL...  EUR 149.99   \n",
       "2  Used - Lenovo ThinkCentre M83 - Intel Core i3 ...   US $35.00   \n",
       "3  Lenovo IdeaCentre 3 07IAB7 Small Desktop PC i5...  GBP 445.99   \n",
       "4  New/Orig Lenovo ThinkPad X13 Yoga Gen 1 13.3\" ...  US $179.99   \n",
       "\n",
       "                                   Product Condition              Quantity  \\\n",
       "0                                                N/A                   N/A   \n",
       "1  Open boxOpen box“A-Grade - Vom NEUEN originale...  6 available / 9 sold   \n",
       "2  UsedUsed“Pulled as a working system that was u...  5 available / 9 sold   \n",
       "3                                             NewNew                   N/A   \n",
       "4                                             NewNew     Last One / 2 sold   \n",
       "\n",
       "                                       Shipping Info  \\\n",
       "0                                                N/A   \n",
       "1  EUR 25.00 (approx US $27.27) Economy Shipping....   \n",
       "2  US $169.47 eBay International Shipping. See de...   \n",
       "3  GBP 117.87 (approx US $149.57) Expedited Shipp...   \n",
       "4  US $30.00 Expedited International Shipping. Se...   \n",
       "\n",
       "                                      Import Charges  \\\n",
       "0                                                N/A   \n",
       "1  International shipment of items may be subject...   \n",
       "2  This item may be subject to import charges and...   \n",
       "3  Est. £89.23 Amount confirmed at checkoutThis a...   \n",
       "4  International shipment of items may be subject...   \n",
       "\n",
       "                                       Delivery Info  \\\n",
       "0                                                N/A   \n",
       "1  Estimated between Fri, Jul 14 and Fri, Jul 28 ...   \n",
       "2  Estimated between Tue, Aug 15 and Tue, Sep 5 t...   \n",
       "3  Estimated between Fri, Jul 14 and Tue, Jul 18 ...   \n",
       "4  Estimated between Thu, Jul 13 and Fri, Jul 21 ...   \n",
       "\n",
       "                                        Returns Info  \n",
       "0                                                N/A  \n",
       "1  30 days returns. Buyer pays for return shippin...  \n",
       "2  30 days returns. Buyer pays for return shippin...  \n",
       "3  30 days returns. Buyer pays for return shippin...  \n",
       "4  30 days returns. Buyer pays for return shippin...  "
      ]
     },
     "execution_count": 10,
     "metadata": {},
     "output_type": "execute_result"
    }
   ],
   "source": [
    "# Create a dictionary containing the data\n",
    "data = {'Product Title': titles,\n",
    "        'Price': prices,\n",
    "        'Product Condition': conditions,\n",
    "        'Quantity': quantities,\n",
    "        'Shipping Info': shippings,\n",
    "        'Import Charges': import_charges,\n",
    "        'Delivery Info': deliveries,\n",
    "        'Returns Info': return_policies}\n",
    "\n",
    "# Create a DataFrame from the dictionary\n",
    "df = pd.DataFrame(data)\n",
    "\n",
    "# Print the DataFrame\n",
    "df.head()"
   ]
  },
  {
   "cell_type": "code",
   "execution_count": 11,
   "id": "be4de14c",
   "metadata": {},
   "outputs": [
    {
     "name": "stdout",
     "output_type": "stream",
     "text": [
      "File Created Successfuly\n"
     ]
    }
   ],
   "source": [
    "# Save the DataFrame to a CSV file\n",
    "df.to_csv('ebay_products.csv', index = False)\n",
    "print('File Created Successfuly')"
   ]
  },
  {
   "cell_type": "code",
   "execution_count": null,
   "id": "36f0c3bd",
   "metadata": {},
   "outputs": [],
   "source": []
  }
 ],
 "metadata": {
  "kernelspec": {
   "display_name": "Python 3 (ipykernel)",
   "language": "python",
   "name": "python3"
  },
  "language_info": {
   "codemirror_mode": {
    "name": "ipython",
    "version": 3
   },
   "file_extension": ".py",
   "mimetype": "text/x-python",
   "name": "python",
   "nbconvert_exporter": "python",
   "pygments_lexer": "ipython3",
   "version": "3.10.9"
  }
 },
 "nbformat": 4,
 "nbformat_minor": 5
}
