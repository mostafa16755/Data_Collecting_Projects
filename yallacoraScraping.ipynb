{
 "cells": [
  {
   "cell_type": "code",
   "execution_count": 11,
   "id": "b0e96b61",
   "metadata": {},
   "outputs": [],
   "source": [
    "import requests\n",
    "import csv\n",
    "from bs4 import BeautifulSoup"
   ]
  },
  {
   "cell_type": "code",
   "execution_count": 12,
   "id": "d9ff02b2",
   "metadata": {},
   "outputs": [
    {
     "name": "stdout",
     "output_type": "stream",
     "text": [
      "Enter The Date You Want, in Formt MM/DD/YY12/12/2022\n"
     ]
    }
   ],
   "source": [
    "date = input('Enter The Date You Want, in Formt MM/DD/YY')\n",
    "page = requests.get(f'https://www.yallakora.com/match-center/%D9%85%D8%B1%D9%83%D8%B2-%D8%A7%D9%84%D9%85%D8%A8%D8%A7%D8%B1%D9%8A%D8%A7%D8%AA?date={date}#days')"
   ]
  },
  {
   "cell_type": "code",
   "execution_count": 9,
   "id": "dd774562",
   "metadata": {},
   "outputs": [],
   "source": [
    "def main(page):\n",
    "    src = page.content\n",
    "    soup = BeautifulSoup(src, 'lxml')\n",
    "    matches_details = []\n",
    "    \n",
    "    championships = soup.find_all('div', {'class': 'matchCard'})\n",
    "     \n",
    "    def get_match_info (championships):\n",
    "        chmpionship_title = championships.contents[1].find('h2').text.strip()\n",
    "        all_matches = championships.contents[3].find_all('li')\n",
    "        number_of_matches = len(all_matches)\n",
    "        \n",
    "        for i in range(number_of_matches):\n",
    "            team_A = all_matches[i].find('div', {'class' : 'teamA'}).text.strip()\n",
    "            team_B = all_matches[i].find('div', {'class' : 'teamB'}).text.strip()\n",
    "                    \n",
    "            match_result = all_matches[i].find('div', {'class' : 'MResult'}).find_all('span', {'class' : 'score'})\n",
    "            score = f\"{match_result[0].text.strip()} - {match_result[1].text.strip()}\"\n",
    "            \n",
    "            match_time = all_matches[i].find('span', {'class' : 'time'}).text.strip()\n",
    "            \n",
    "            \n",
    "            matches_details.append({'نوع البطولة':chmpionship_title, 'الفريق الاول': team_A, 'الفريق الثاني': team_B, 'ميعاد المباراة' : match_time,\n",
    "                                   'النتيجة' : score})\n",
    "            \n",
    "    for i in range(len(championships)):\n",
    "        get_match_info(championships[i])\n",
    "            \n",
    "    keys = matches_details[0].keys()\n",
    "    \n",
    "    with open('matches_details.csv', 'w', encoding='utf-8') as output_file:\n",
    "        dict_writer = csv.DictWriter(output_file, keys)\n",
    "        dict_writer.writeheader()\n",
    "        dict_writer.writerows(matches_details)\n",
    "        print('file created')"
   ]
  },
  {
   "cell_type": "code",
   "execution_count": 10,
   "id": "fcc1e89e",
   "metadata": {},
   "outputs": [
    {
     "name": "stdout",
     "output_type": "stream",
     "text": [
      "file created\n"
     ]
    }
   ],
   "source": [
    "main(page)"
   ]
  },
  {
   "cell_type": "code",
   "execution_count": null,
   "id": "f7870e87",
   "metadata": {},
   "outputs": [],
   "source": []
  }
 ],
 "metadata": {
  "kernelspec": {
   "display_name": "Python 3 (ipykernel)",
   "language": "python",
   "name": "python3"
  },
  "language_info": {
   "codemirror_mode": {
    "name": "ipython",
    "version": 3
   },
   "file_extension": ".py",
   "mimetype": "text/x-python",
   "name": "python",
   "nbconvert_exporter": "python",
   "pygments_lexer": "ipython3",
   "version": "3.9.13"
  }
 },
 "nbformat": 4,
 "nbformat_minor": 5
}
