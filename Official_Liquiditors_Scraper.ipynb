{
 "cells": [
  {
   "cell_type": "code",
   "execution_count": 46,
   "id": "67e0370f",
   "metadata": {},
   "outputs": [],
   "source": [
    "from selenium import webdriver\n",
    "from bs4 import BeautifulSoup\n",
    "import pandas as pd"
   ]
  },
  {
   "cell_type": "code",
   "execution_count": 47,
   "id": "0f5d59f5",
   "metadata": {},
   "outputs": [],
   "source": [
    "driver = webdriver.Chrome()\n",
    "driver.get(\"https://www.mca.gov.in/content/mca/global/en/contact-us/official-liquidators.html\")"
   ]
  },
  {
   "cell_type": "code",
   "execution_count": 48,
   "id": "32e36787",
   "metadata": {},
   "outputs": [],
   "source": [
    "name = []\n",
    "designation = []\n",
    "contact_details = []\n",
    "address = []"
   ]
  },
  {
   "cell_type": "code",
   "execution_count": 49,
   "id": "6cca76e9",
   "metadata": {},
   "outputs": [],
   "source": [
    "content = driver.page_source\n",
    "driver.quit()"
   ]
  },
  {
   "cell_type": "code",
   "execution_count": 50,
   "id": "7e87f734",
   "metadata": {},
   "outputs": [],
   "source": [
    "soup = BeautifulSoup(content, 'lxml')"
   ]
  },
  {
   "cell_type": "code",
   "execution_count": 51,
   "id": "a1ffb9c0",
   "metadata": {},
   "outputs": [],
   "source": [
    "data = soup.find_all('tr', {'class' : 'view table-values dark-theme diff-designation'})\n",
    "for i in data:\n",
    "    name_element = i.find('td', col='Name')\n",
    "    designation_element = i.find('td', col='Designation')\n",
    "    contact_details_element = i.find('td', col='Contact Details')\n",
    "    address_element = i.find('td', col='Address')\n",
    "\n",
    "    name.append(name_element.text)\n",
    "    designation.append(designation_element.text)\n",
    "    contact_details.append(contact_details_element.text)\n",
    "    address.append(address_element.text)"
   ]
  },
  {
   "cell_type": "code",
   "execution_count": 52,
   "id": "45e1555b",
   "metadata": {},
   "outputs": [],
   "source": [
    "df = pd.DataFrame({'Name' : name, 'Designation' : designation, 'Contact_Details' : contact_details, 'Address' : address})"
   ]
  },
  {
   "cell_type": "code",
   "execution_count": 53,
   "id": "4dc0b416",
   "metadata": {},
   "outputs": [
    {
     "data": {
      "text/html": [
       "<div>\n",
       "<style scoped>\n",
       "    .dataframe tbody tr th:only-of-type {\n",
       "        vertical-align: middle;\n",
       "    }\n",
       "\n",
       "    .dataframe tbody tr th {\n",
       "        vertical-align: top;\n",
       "    }\n",
       "\n",
       "    .dataframe thead th {\n",
       "        text-align: right;\n",
       "    }\n",
       "</style>\n",
       "<table border=\"1\" class=\"dataframe\">\n",
       "  <thead>\n",
       "    <tr style=\"text-align: right;\">\n",
       "      <th></th>\n",
       "      <th>Name</th>\n",
       "      <th>Designation</th>\n",
       "      <th>Contact_Details</th>\n",
       "      <th>Address</th>\n",
       "    </tr>\n",
       "  </thead>\n",
       "  <tbody>\n",
       "    <tr>\n",
       "      <th>0</th>\n",
       "      <td>Sh Vyomesh R. Sheth</td>\n",
       "      <td>Official Liquidator, Ministry of Corporate Aff...</td>\n",
       "      <td>0731-2710051 \\n 0731-2710568\\n ol[dot]indore[...</td>\n",
       "      <td>1st Floor,\\nOld CIA Building,\\nOpp.GPO Comps...</td>\n",
       "    </tr>\n",
       "    <tr>\n",
       "      <th>1</th>\n",
       "      <td>Sh Iqbal Hussain Ansari</td>\n",
       "      <td>Official Liquidator, Ministry Of Corporate Aff...</td>\n",
       "      <td>033-22486501/067/35073\\n ol-kolkata-mca[at]ni...</td>\n",
       "      <td>5th Floor, 9,\\nOld Post Office\\nStreet,\\nKol...</td>\n",
       "    </tr>\n",
       "    <tr>\n",
       "      <th>2</th>\n",
       "      <td>Sh V M Prasanth</td>\n",
       "      <td>Official Liquidator, Ministry Of Corporate Aff...</td>\n",
       "      <td>0484-2422889/8337/3387\\n 0484-2423172\\n ol-co...</td>\n",
       "      <td>Company Law Bhawan, 3rd Floor, BMC Road, Thi...</td>\n",
       "    </tr>\n",
       "    <tr>\n",
       "      <th>3</th>\n",
       "      <td>Sh Sanjay Bose</td>\n",
       "      <td>Official Liquidator Ministry Of Corporate Affa...</td>\n",
       "      <td>0532-2560312/162\\n ol[dot]allahabad[at]mca[do...</td>\n",
       "      <td>B9th Floor,\\nSangam Place,\\nCivil Lines,\\nAl...</td>\n",
       "    </tr>\n",
       "    <tr>\n",
       "      <th>4</th>\n",
       "      <td>Sh Uttam Sitaram Patole</td>\n",
       "      <td>ROC-cum-Official Liquidator, Ministry Of Corpo...</td>\n",
       "      <td>0141-2981913/14/15/17\\n 0141-2981916\\n ol[dot...</td>\n",
       "      <td>Corporate Bhawan,\\nG/6-7,\\nResidency Area,\\n...</td>\n",
       "    </tr>\n",
       "  </tbody>\n",
       "</table>\n",
       "</div>"
      ],
      "text/plain": [
       "                        Name  \\\n",
       "0      Sh Vyomesh R. Sheth     \n",
       "1  Sh Iqbal Hussain Ansari     \n",
       "2          Sh V M Prasanth     \n",
       "3           Sh Sanjay Bose     \n",
       "4  Sh Uttam Sitaram Patole     \n",
       "\n",
       "                                         Designation  \\\n",
       "0  Official Liquidator, Ministry of Corporate Aff...   \n",
       "1  Official Liquidator, Ministry Of Corporate Aff...   \n",
       "2  Official Liquidator, Ministry Of Corporate Aff...   \n",
       "3  Official Liquidator Ministry Of Corporate Affa...   \n",
       "4  ROC-cum-Official Liquidator, Ministry Of Corpo...   \n",
       "\n",
       "                                     Contact_Details  \\\n",
       "0   0731-2710051 \\n 0731-2710568\\n ol[dot]indore[...   \n",
       "1   033-22486501/067/35073\\n ol-kolkata-mca[at]ni...   \n",
       "2   0484-2422889/8337/3387\\n 0484-2423172\\n ol-co...   \n",
       "3   0532-2560312/162\\n ol[dot]allahabad[at]mca[do...   \n",
       "4   0141-2981913/14/15/17\\n 0141-2981916\\n ol[dot...   \n",
       "\n",
       "                                             Address  \n",
       "0    1st Floor,\\nOld CIA Building,\\nOpp.GPO Comps...  \n",
       "1    5th Floor, 9,\\nOld Post Office\\nStreet,\\nKol...  \n",
       "2    Company Law Bhawan, 3rd Floor, BMC Road, Thi...  \n",
       "3    B9th Floor,\\nSangam Place,\\nCivil Lines,\\nAl...  \n",
       "4    Corporate Bhawan,\\nG/6-7,\\nResidency Area,\\n...  "
      ]
     },
     "execution_count": 53,
     "metadata": {},
     "output_type": "execute_result"
    }
   ],
   "source": [
    "df.head()"
   ]
  },
  {
   "cell_type": "code",
   "execution_count": 56,
   "id": "736b55f1",
   "metadata": {},
   "outputs": [
    {
     "name": "stdout",
     "output_type": "stream",
     "text": [
      "File Created\n"
     ]
    }
   ],
   "source": [
    "df.to_csv('Official_Liquiditors.csv', index = False)\n",
    "print('File Created')"
   ]
  },
  {
   "cell_type": "code",
   "execution_count": null,
   "id": "9e3c3905",
   "metadata": {},
   "outputs": [],
   "source": []
  }
 ],
 "metadata": {
  "kernelspec": {
   "display_name": "Python 3 (ipykernel)",
   "language": "python",
   "name": "python3"
  },
  "language_info": {
   "codemirror_mode": {
    "name": "ipython",
    "version": 3
   },
   "file_extension": ".py",
   "mimetype": "text/x-python",
   "name": "python",
   "nbconvert_exporter": "python",
   "pygments_lexer": "ipython3",
   "version": "3.10.9"
  }
 },
 "nbformat": 4,
 "nbformat_minor": 5
}
